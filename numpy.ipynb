{
  "cells": [
    {
      "cell_type": "markdown",
      "metadata": {
        "id": "vC84e9kzyxPy"
      },
      "source": [
        "<h1>Импорт библиотек"
      ]
    },
    {
      "cell_type": "code",
      "execution_count": 3,
      "metadata": {
        "id": "cgKeNegmQG5S"
      },
      "outputs": [],
      "source": [
        "import numpy as np\n",
        "import matplotlib.pyplot as plt"
      ]
    },
    {
      "cell_type": "markdown",
      "metadata": {
        "id": "qFM9uVU2x4Ls"
      },
      "source": [
        "<h1>Задача 1. Дан набор из $p$ матриц размерностью $(n, n)$ и $p$ векторов размерностью $(n, 1)$, найти сумму произведений матриц на векторы. Написать тесты для кода"
      ]
    },
    {
      "cell_type": "code",
      "execution_count": null,
      "metadata": {
        "id": "IAbUvEiYyWFF"
      },
      "outputs": [],
      "source": [
        "import numpy as np\n",
        "\n",
        "def calculate_sum_of_products(mat_list, vec_list):\n",
        "    \n",
        "    total_result = np.zeros((mat_list[0].shape[0], 1))  \n",
        "    \n",
        "    for matrix, vector in zip(mat_list, vec_list):\n",
        "        total_result += matrix @ vector \n",
        "    \n",
        "    return total_result\n",
        "\n",
        "\n",
        "if __name__ == \"__main__\":\n",
        "\n",
        "    mat_list = [np.array([[1, 2], [3, 4]]), np.array([[5, 6], [7, 8]])]\n",
        "    vec_list = [np.array([[1], [1]]), np.array([[2], [2]])]\n",
        "\n",
        "    result = calculate_sum_of_products(mat_list, vec_list)\n",
        "    print(result)"
      ]
    },
    {
      "cell_type": "markdown",
      "metadata": {
        "id": "TKwPG4fIy2w4"
      },
      "source": [
        "<h1>Задача 2. Дана матрица M, напишите функцию, которая бинаризует матрицу по некоторому threshold (то есть, все значения большие threshold становятся равными 1, иначе 0). Напишите тесты для кода"
      ]
    },
    {
      "cell_type": "code",
      "execution_count": null,
      "metadata": {
        "id": "KQDNMgsjRNH7"
      },
      "outputs": [],
      "source": [
        "import numpy as np\n",
        "\n",
        "def binarize_matrix(input_matrix, threshold_value=0.5):\n",
        "    input_matrix = np.array(input_matrix)\n",
        "\n",
        "    binary_result = (input_matrix > threshold_value).astype(int)\n",
        "\n",
        "    return binary_result\n",
        "\n",
        "data_matrix = [[0.1, 0.4, 0.6],\n",
        "               [0.7, 0.2, 0.8],\n",
        "               [0.3, 0.9, 0.5]]\n",
        "\n",
        "threshold_value = 0.5\n",
        "binarized_output = binarize_matrix(data_matrix, threshold_value)\n",
        "print(binarized_output)\n"
      ]
    },
    {
      "cell_type": "markdown",
      "metadata": {
        "id": "IY5L-h-7zWhN"
      },
      "source": [
        "<h1>Задача 3. Напишите функцию, которая возвращает уникальные элементы из каждой строки матрицы. Напишите такую же функцию, но для столбцов. Напишите тесты для кода"
      ]
    },
    {
      "cell_type": "code",
      "execution_count": null,
      "metadata": {
        "id": "-8dEZhR0SBC-"
      },
      "outputs": [],
      "source": [
        "import numpy as np\n",
        "\n",
        "def unique_rows(matrix):\n",
        "    matrix = np.array(matrix)\n",
        "\n",
        "    unique_rows_list = [np.unique(row) for row in matrix]\n",
        "\n",
        "    return unique_rows_list\n",
        "\n",
        "def unique_columns(matrix):\n",
        "    matrix = np.array(matrix)\n",
        "\n",
        "    unique_columns_list = []\n",
        "    for col in range(matrix.shape[1]):\n",
        "        unique_col = set(matrix[:, col])\n",
        "        unique_columns_list.append(list(unique_col))\n",
        "\n",
        "    return unique_columns_list\n",
        "\n",
        "data_array = [[5, 6, 6],\n",
        "              [7, 8, 8],\n",
        "              [5, 6, 9]]\n",
        "\n",
        "unique_row_elements = unique_rows(data_array)\n",
        "unique_column_elements = unique_columns(data_array)\n",
        "\n",
        "print(unique_row_elements)\n",
        "print(unique_column_elements)"
      ]
    },
    {
      "cell_type": "markdown",
      "metadata": {
        "id": "roYAlo4Jz-lH"
      },
      "source": [
        "<h1>Задача 4. Напишите функцию, которая заполняет матрицу с размерами $(m, n)$ случайными числами, распределенными по нормальному закону. Затем считает мат. ожидание и дисперсию для каждого из столбцов и строк, а также строит для каждой строки и столбца гистограмму значений (использовать функцию hist из модуля matplotlib.plot)"
      ]
    },
    {
      "cell_type": "code",
      "execution_count": null,
      "metadata": {
        "id": "nZK_71hMSQzv"
      },
      "outputs": [],
      "source": [
        "import numpy as np\n",
        "import matplotlib.pyplot as plt\n",
        "\n",
        "def generate_random_matrix(m, n):\n",
        "      return np.random.normal(loc=0, scale=1, size=(m, n))\n",
        "\n",
        "def calculate_statistics(matrix)\n",
        "    row_means = np.mean(matrix, axis=1)\n",
        "    row_variances = np.var(matrix, axis=1)\n",
        "\n",
        "    col_means = np.mean(matrix, axis=0)\n",
        "    col_variances = np.var(matrix, axis=0)\n",
        "\n",
        "    return (row_means, row_variances), (col_means, col_variances)\n",
        "\n",
        "def plot_histograms(matrix):\n",
        "    num_rows, num_cols = matrix.shape\n",
        "\n",
        "    plt.figure(figsize=(12, 6))\n",
        "    for i in range(num_rows):\n",
        "        plt.subplot(num_rows, 1, i + 1)\n",
        "        plt.hist(matrix[i], bins=10, alpha=0.7)\n",
        "        plt.title(f'Гистограмма строки {i + 1}')\n",
        "        plt.xlabel('Значения')\n",
        "        plt.ylabel('Частота')\n",
        "    plt.tight_layout()\n",
        "    plt.show()\n",
        "\n",
        "    plt.figure(figsize=(12, 6))\n",
        "    for j in range(num_cols):\n",
        "        plt.subplot(num_cols, 1, j + 1)\n",
        "        plt.hist(matrix[:, j], bins=10, alpha=0.7)\n",
        "        plt.title(f'Гистограмма столбца {j + 1}')\n",
        "        plt.xlabel('Значения')\n",
        "        plt.ylabel('Частота')\n",
        "    plt.tight_layout()\n",
        "    plt.show()\n",
        "\n",
        "m, n = 4, 5\n",
        "random_matrix = generate_random_matrix(m, n)\n",
        "(row_stats, col_stats) = calculate_statistics(random_matrix)\n",
        "\n",
        "print(\"Математическое ожидание и дисперсия по строкам:\")\n",
        "for i in range(m):\n",
        "    print(f\"Строка {i + 1}: Математическое ожидание = {row_stats[0][i]:.2f}, Дисперсия = {row_stats[1][i]:.2f}\")\n",
        "\n",
        "print(\"\\nМатематическое ожидание и дисперсия по столбцам:\")\n",
        "for j in range(n):\n",
        "    print(f\"Столбец {j + 1}: Математическое ожидание = {col_stats[0][j]:.2f}, Дисперсия = {col_stats[1][j]:.2f}\")\n",
        "\n",
        "plot_histograms(random_matrix)"
      ]
    },
    {
      "cell_type": "markdown",
      "metadata": {
        "id": "BDyATNdM0dJ2"
      },
      "source": [
        "<h1>Задача 5. Напишите функцию, которая заполняет матрицу $(m, n)$ в шахматном порядке заданными числами $a$ и $b$. Напишите тесты для кода"
      ]
    },
    {
      "cell_type": "code",
      "execution_count": 1,
      "metadata": {
        "id": "RWNJYWQGecS6"
      },
      "outputs": [],
      "source": [
        "def chess(m, n, a, b):\n",
        "    matrix = [[0] * n for _ in range(m)]\n",
        "\n",
        "    for i in range(m):\n",
        "        for j in range(n):\n",
        "            if (i + j) % 2 == 0:\n",
        "                matrix[i][j] = a\n",
        "            else:\n",
        "                matrix[i][j] = b\n",
        "\n",
        "    return matrix\n",
        "\n",
        "# Тесты\n",
        "def test_chess():\n",
        "    # Тест 1: матрица 2x2\n",
        "    result = chess(2, 2, 1, 0)\n",
        "    expected = [[1, 0], [0, 1]]\n",
        "    assert result == expected, f\"Тест 1 не пройден: {result}\"\n",
        "\n",
        "    # Тест 2: матрица 3x3\n",
        "    result = chess(3, 3, 'X', 'O')\n",
        "    expected = [['X', 'O', 'X'], ['O', 'X', 'O'], ['X', 'O', 'X']]\n",
        "    assert result == expected, f\"Тест 2 не пройден: {result}\"\n",
        "\n",
        "test_chess()"
      ]
    },
    {
      "cell_type": "markdown",
      "metadata": {
        "id": "-ymXLtTN0vB6"
      },
      "source": [
        "<h1>Задача 6. Напишите функцию, которая отрисовывает прямоугольник с заданными размерами (a, b) на изображении размера (m, n), цвет фона задайте в схеме RGB, как и цвет прямоугольника. Цвета также должны быть параметрами функции. Напишите аналогичную функцию но для овала с полуосями a и b. Напишите тесты для кода.\n",
        "Примечание: уравнение эллипса (границы овала) можно записать как:\n",
        "<h1>$\\frac{(x-x_0)^2}{a^2}+\\frac{(y-y_0)^2}{b^2}=1$"
      ]
    },
    {
      "cell_type": "code",
      "execution_count": 1,
      "metadata": {
        "id": "sNfl1t_kfOF4"
      },
      "outputs": [],
      "source": [
        "from PIL import Image, ImageDraw\n",
        "\n",
        "def create_image(width, height, bg_color):\n",
        "    return Image.new(\"RGB\", (width, height), bg_color)\n",
        "\n",
        "def add_rectangle(img, rect_width, rect_height, rect_color):\n",
        "    draw = ImageDraw.Draw(img)\n",
        "    draw.rectangle([0, 0, rect_width, rect_height], fill=rect_color)\n",
        "\n",
        "def add_ellipse(img, semi_major_axis, semi_minor_axis, ellipse_color):\n",
        "    draw = ImageDraw.Draw(img)\n",
        "    width, height = img.size\n",
        "    draw.ellipse([width // 2 - semi_major_axis, height // 2 - semi_minor_axis,\n",
        "                  width // 2 + semi_major_axis, height // 2 + semi_minor_axis], \n",
        "                 fill=ellipse_color)\n",
        "\n",
        "def main():\n",
        "    img_width = 200\n",
        "    img_height = 100\n",
        "    background_color = (255, 255, 255)\n",
        "\n",
        "    image = create_image(img_width, img_height, background_color)\n",
        "\n",
        "    rectangle_width = 100\n",
        "    rectangle_height = 50\n",
        "    rectangle_color = (255, 0, 0)\n",
        "    add_rectangle(image, rectangle_width, rectangle_height, rectangle_color)\n",
        "\n",
        "    ellipse_semi_major = 50\n",
        "    ellipse_semi_minor = 25\n",
        "    ellipse_color = (0, 0, 255)\n",
        "    add_ellipse(image, ellipse_semi_major, ellipse_semi_minor, ellipse_color)\n",
        "\n",
        "main()"
      ]
    },
    {
      "cell_type": "markdown",
      "metadata": {
        "id": "S82c38oz244H"
      },
      "source": [
        "<h1>Задача 7. Дан некий временной ряд. Для данного ряда нужно найти его: математическое ожидание, дисперсию, СКО, найти все локальные максимумы и минимумы (локальный максимум - это точка, которая больше своих соседних точек, а локальный минимум - это точка, которая меньше своих соседей), а также вычислить для данного ряда другой ряд, получаемый методом скользящего среднего с размером окна $p$.\n",
        "<h1>Примечание: метод скользящего среднего подразумевает нахождение среднего из подмножетсва ряда размером $p$"
      ]
    },
    {
      "cell_type": "code",
      "execution_count": null,
      "metadata": {
        "id": "Zb9mIVge5MMt"
      },
      "outputs": [],
      "source": [
        "import numpy as np\n",
        "import pandas as pd\n",
        "from scipy.signal import argrelextrema\n",
        "\n",
        "data_series = np.array([1, 3, 2, 5, 4, 6, 3, 7, 8, 6, 5])\n",
        "\n",
        "expected_value = np.mean(data_series)\n",
        "\n",
        "variance_value = np.var(data_series)\n",
        "\n",
        "std_deviation = np.std(data_series)\n",
        "\n",
        "local_max_indices = argrelextrema(data_series, np.greater)[0]\n",
        "local_max_values = data_series[local_max_indices]\n",
        "\n",
        "local_min_indices = argrelextrema(data_series, np.less)[0]\n",
        "local_min_values = data_series[local_min_indices]\n",
        "\n",
        "window_size = 3  \n",
        "rolling_average = pd.Series(data_series).rolling(window=window_size).mean()\n",
        "\n",
        "print(f\"Мат ожидание: {expected_value}, \"\n",
        "      f\"Дисперсия: {variance_value}, \"\n",
        "      f\"Стандартное отклонение: {std_deviation}, \"\n",
        "      f\"Локальные максимумы: {local_max_values} (индексы: {local_max_indices}), \"\n",
        "      f\"Локальные минимумы: {local_min_values} (индексы: {local_min_indices}), \"\n",
        "      f\"Скользящее среднее (размер окна {window_size}):\\n{rolling_average}\")\n"
      ]
    },
    {
      "cell_type": "markdown",
      "metadata": {
        "id": "jPkylmOX5O9n"
      },
      "source": [
        "<h1> Задача 8. Дан некоторый вектор с целочисленными метками классов, напишите функцию, которая выполняет one-hot-encoding для данного вектора\n",
        "<h1> One-hot-encoding - представление, в котором на месте метки некоторого класса стоит 1, в остальных позициях стоит 0. Например для вектора [0, 2, 3, 0] one-hot-encoding выглядит как: [[1, 0, 0, 0], [0, 0, 1, 0], [0, 0, 0, 1], [1, 0, 0, 0]]"
      ]
    },
    {
      "cell_type": "code",
      "execution_count": null,
      "metadata": {
        "id": "Y-jlnZvw56lD"
      },
      "outputs": [],
      "source": [
        "import numpy as np\n",
        "\n",
        "def one_hot_encoding(class_labels):\n",
        "    num_classes = np.max(class_labels) + 1 \n",
        "    one_hot_matrix = np.zeros((len(class_labels), num_classes), dtype=int)\n",
        "    \n",
        "    for idx, label in enumerate(class_labels):\n",
        "        one_hot_matrix[idx, label] = 1\n",
        "    \n",
        "    return one_hot_matrix\n",
        "\n",
        "class_vector = [0, 2, 3, 0]\n",
        "one_hot_result = one_hot_encoding(class_vector)\n",
        "print(one_hot_result)"
      ]
    }
  ],
  "metadata": {
    "colab": {
      "provenance": []
    },
    "kernelspec": {
      "display_name": "Python 3",
      "name": "python3"
    },
    "language_info": {
      "codemirror_mode": {
        "name": "ipython",
        "version": 3
      },
      "file_extension": ".py",
      "mimetype": "text/x-python",
      "name": "python",
      "nbconvert_exporter": "python",
      "pygments_lexer": "ipython3",
      "version": "3.10.8"
    }
  },
  "nbformat": 4,
  "nbformat_minor": 0
}
